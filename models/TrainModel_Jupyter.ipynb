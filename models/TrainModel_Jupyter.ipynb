{
 "cells": [
  {
   "cell_type": "code",
   "execution_count": 4,
   "metadata": {},
   "outputs": [
    {
     "name": "stdout",
     "output_type": "stream",
     "text": [
      "\n",
      "Download files...\n",
      "...Finish download\n",
      "\n"
     ]
    }
   ],
   "source": [
    "# -*- coding: utf-8 -*-\n",
    "from keras.callbacks import EarlyStopping, ModelCheckpoint, ReduceLROnPlateau, CSVLogger\n",
    "from keras.layers.normalization import BatchNormalization\n",
    "from keras.layers.convolutional import MaxPooling2D\n",
    "from keras.layers.convolutional import Conv2D\n",
    "from keras.layers import GlobalMaxPooling2D\n",
    "from keras.layers import AveragePooling2D\n",
    "from matplotlib import pyplot as plt\n",
    "from keras.models import Sequential\n",
    "from keras.layers import Dropout\n",
    "from keras.optimizers import RMSprop\n",
    "from keras.utils import np_utils\n",
    "from keras.layers import Dense\n",
    "import keras\n",
    "import keras_metrics\n",
    "import numpy as np\n",
    "import requests\n",
    "import cv2\n",
    "import os\n",
    "\n",
    "def download_file(url):\n",
    "    local_filename = url.split('/')[-1]\n",
    "    # NOTE the stream=True parameter below\n",
    "    with requests.get(url, stream = True) as r:\n",
    "        r.raise_for_status()\n",
    "        with open(local_filename, 'wb') as f:\n",
    "            for chunk in r.iter_content(chunk_size=8192): \n",
    "                if chunk: # filter out keep-alive new chunks\n",
    "                    f.write(chunk)\n",
    "                    # f.flush()\n",
    "\n",
    "def downloadFiles():\n",
    "    \n",
    "    urlsDownload = [\n",
    "            'https://github.com/AlfredoFilho/Auto-Correction-Tests/raw/master/filesDownload/MnistKeras.npz',\n",
    "            'https://github.com/AlfredoFilho/Auto-Correction-Tests/raw/master/filesDownload/myNumbers/number-one.png',\n",
    "            'https://github.com/AlfredoFilho/Auto-Correction-Tests/raw/master/filesDownload/myNumbers/number-two.png',\n",
    "            'https://github.com/AlfredoFilho/Auto-Correction-Tests/raw/master/filesDownload/myNumbers/number-three.png',\n",
    "            'https://github.com/AlfredoFilho/Auto-Correction-Tests/raw/master/filesDownload/myNumbers/number-four.png',\n",
    "            'https://github.com/AlfredoFilho/Auto-Correction-Tests/raw/master/filesDownload/myNumbers/number-five.png',\n",
    "            'https://github.com/AlfredoFilho/Auto-Correction-Tests/raw/master/filesDownload/myNumbers/number-six.png',\n",
    "            'https://github.com/AlfredoFilho/Auto-Correction-Tests/raw/master/filesDownload/myNumbers/number-seven.png',\n",
    "            'https://github.com/AlfredoFilho/Auto-Correction-Tests/raw/master/filesDownload/myNumbers/number-eight.png',\n",
    "            'https://github.com/AlfredoFilho/Auto-Correction-Tests/raw/master/filesDownload/myNumbers/number-nine.png'\n",
    "            ]\n",
    "    \n",
    "    print('\\nDownload files...')\n",
    "    \n",
    "    if((os.path.isdir(\"files\")) == False):\n",
    "        os.mkdir('files')\n",
    "    \n",
    "    os.chdir('files')\n",
    "        \n",
    "    for url in urlsDownload:\n",
    "        nameFile = url.split('/')[-1]\n",
    "        if (os.path.exists(nameFile) == False):\n",
    "            download_file(url)\n",
    "    \n",
    "    os.chdir(\"..\")\n",
    "    \n",
    "    print('...Finish download\\n')\n",
    "\n",
    "def load_data(path):\n",
    "\n",
    "    with np.load(path) as f:\n",
    "        x_train, y_train = f['x_train'], f['y_train']\n",
    "        x_test, y_test = f['x_test'], f['y_test']\n",
    "\n",
    "        x_train = x_train.reshape(x_train.shape[0], 28, 28, 1).astype('float32')\n",
    "        x_test = x_test.reshape(x_test.shape[0], 28, 28, 1).astype('float32')\n",
    "\n",
    "        x_train = x_train / 255\n",
    "        x_test = x_test / 255\n",
    "\n",
    "        y_train = np_utils.to_categorical(y_train)\n",
    "        y_test = np_utils.to_categorical(y_test)\n",
    "\n",
    "    return x_train, y_train, x_test, y_test\n",
    "\n",
    "downloadFiles()\n",
    "np.random.seed(2019)\n",
    "os.environ['TF_CPP_MIN_LOG_LEVEL'] = '3'\n",
    "x_train, y_train, x_test, y_test = load_data('files/MnistKeras.npz')\n",
    "\n",
    "class Model:\n",
    "    def __init__(self):\n",
    "        self.model = self.getModel()\n",
    "\n",
    "    def defineTrain(self, name, epochs, batch_size, nameCallback, patienceCallback):\n",
    "        self.name = name\n",
    "        self.epochs = epochs\n",
    "        self.batch_size = batch_size\n",
    "        self.nameCallback = nameCallback\n",
    "        self.patienceCallback = patienceCallback\n",
    "        \n",
    "    def get_callbacks(self, name, patience_lr):\n",
    "        mcp_save = ModelCheckpoint(name + '.h5', save_best_only = True,\n",
    "                                         monitor = 'val_accuracy', mode='max')\n",
    "        reduce_lr_loss = ReduceLROnPlateau(monitor = 'loss', factor = 0.1,\n",
    "                                           patience = patience_lr,\n",
    "                                           verbose = 1, min_delta = 1e-4,\n",
    "                                           mode = 'min')\n",
    "        early_stop = EarlyStopping(monitor = 'val_accuracy', min_delta = 0, patience = 10,\n",
    "                                   verbose = 0, mode = 'max', baseline = None)\n",
    "        csv_logger = CSVLogger(name + '_log.csv', append = True, separator = ';')\n",
    "        return [reduce_lr_loss, early_stop, csv_logger, mcp_save]\n",
    "    \n",
    "    def loadModel(self, nameLoad):\n",
    "        self.model.load_weights(nameLoad)\n",
    "        \n",
    "    def trainModel(self):\n",
    "        self.model.summary()\n",
    "                \n",
    "        self.model.fit(x_train, y_train, validation_data = (x_test, y_test),\n",
    "                  epochs = self.epochs, batch_size = self.batch_size,\n",
    "                  callbacks = self.get_callbacks(self.nameCallback, self.patienceCallback))\n",
    "        \n",
    "        self.model.save_weights(self.name)\n",
    "        \n",
    "    def printAcc(self):\n",
    "        scores = self.model.evaluate(x_test, y_test, verbose = 0)\n",
    "        print(\"\\nAcc: %.2f%%\" % (scores[1]*100))\n",
    "    \n",
    "    def testModel(self):\n",
    "        images = ['files/number-one.png', 'files/number-two.png', 'files/number-three.png', 'files/number-four.png', 'files/number-five.png',\n",
    "              'files/number-six.png', 'files/number-seven.png', 'files/number-eight.png', 'files/number-nine.png'\n",
    "              ]\n",
    "\n",
    "        for image in images:\n",
    "            img_pred = cv2.imread(image, 0)\n",
    "            plt.imshow(img_pred, cmap='gray')\n",
    "    \n",
    "            if img_pred.shape != [28,28]:\n",
    "                img2 = cv2.resize(img_pred, (28, 28))\n",
    "                img_pred = img2.reshape(28, 28, -1)\n",
    "            else:\n",
    "                img_pred = img_pred.reshape(28, 28, -1)\n",
    "    \n",
    "            img_pred = ~img_pred\n",
    "            img_pred = img_pred.reshape(1, 28, 28, 1).astype('float32')\n",
    "\n",
    "            img_pred = img_pred/255.0\n",
    "    \n",
    "            pred = self.model.predict_classes(img_pred)\n",
    "            pred_proba = self.model.predict_proba(img_pred)\n",
    "            pred_proba = \"%.2f%%\" % (pred_proba[0][pred]*100)\n",
    "            print(pred[0], \" com confiança de \", pred_proba)\n",
    "            plt.show()\n",
    "        \n",
    "    def getModel(self):\n",
    "\n",
    "        num_classes = 10\n",
    "        optimizer = RMSprop(lr = 0.001, rho = 0.9, epsilon = 1e-08, decay = 0.0)\n",
    "        model = Sequential()\n",
    "\n",
    "        model.add(Conv2D(32, (3, 3), input_shape = (28, 28, 1), activation = 'relu', padding = 'same'))\n",
    "        model.add(AveragePooling2D(pool_size = (2, 2), strides = 2))\n",
    "        model.add(Dropout(0.2))\n",
    "\n",
    "        model.add(BatchNormalization())\n",
    "\n",
    "        model.add(Conv2D(64, (3, 3), input_shape = (28, 28, 1), activation = 'relu', padding = 'same'))\n",
    "        model.add(AveragePooling2D(pool_size = (2, 2), strides = 2))\n",
    "        model.add(Dropout(0.2))\n",
    "\n",
    "        model.add(BatchNormalization())\n",
    "    \n",
    "        model.add(Conv2D(128, (3, 3), input_shape = (28, 28, 1), activation = 'relu', padding = 'same'))\n",
    "        model.add(AveragePooling2D(pool_size = (2, 2), strides = 2))\n",
    "        model.add(Dropout(0.3))\n",
    "\n",
    "        model.add(BatchNormalization())            \n",
    "        model.add(GlobalMaxPooling2D())\n",
    "        \n",
    "        model.add(Dense(256, activation = 'relu'))\n",
    "        model.add(BatchNormalization())\n",
    "        model.add(Dropout(0.5))\n",
    "        model.add(Dense(num_classes, activation = 'softmax', name = 'predict'))\n",
    "    \n",
    "        model.compile(loss = 'categorical_crossentropy', optimizer = optimizer, metrics = ['accuracy', keras_metrics.precision(), keras_metrics.recall()])\n",
    "    \n",
    "        return model"
   ]
  },
  {
   "cell_type": "code",
   "execution_count": 5,
   "metadata": {
    "scrolled": true
   },
   "outputs": [
    {
     "name": "stdout",
     "output_type": "stream",
     "text": [
      "tracking <tf.Variable 'Variable:0' shape=() dtype=int32, numpy=0> tp\n",
      "tracking <tf.Variable 'Variable:0' shape=() dtype=int32, numpy=0> fp\n",
      "tracking <tf.Variable 'Variable:0' shape=() dtype=int32, numpy=0> tp\n",
      "tracking <tf.Variable 'Variable:0' shape=() dtype=int32, numpy=0> fn\n",
      "Model: \"sequential_1\"\n",
      "_________________________________________________________________\n",
      "Layer (type)                 Output Shape              Param #   \n",
      "=================================================================\n",
      "conv2d_1 (Conv2D)            (None, 28, 28, 32)        320       \n",
      "_________________________________________________________________\n",
      "average_pooling2d_1 (Average (None, 14, 14, 32)        0         \n",
      "_________________________________________________________________\n",
      "dropout_1 (Dropout)          (None, 14, 14, 32)        0         \n",
      "_________________________________________________________________\n",
      "batch_normalization_1 (Batch (None, 14, 14, 32)        128       \n",
      "_________________________________________________________________\n",
      "conv2d_2 (Conv2D)            (None, 14, 14, 64)        18496     \n",
      "_________________________________________________________________\n",
      "average_pooling2d_2 (Average (None, 7, 7, 64)          0         \n",
      "_________________________________________________________________\n",
      "dropout_2 (Dropout)          (None, 7, 7, 64)          0         \n",
      "_________________________________________________________________\n",
      "batch_normalization_2 (Batch (None, 7, 7, 64)          256       \n",
      "_________________________________________________________________\n",
      "conv2d_3 (Conv2D)            (None, 7, 7, 128)         73856     \n",
      "_________________________________________________________________\n",
      "average_pooling2d_3 (Average (None, 3, 3, 128)         0         \n",
      "_________________________________________________________________\n",
      "dropout_3 (Dropout)          (None, 3, 3, 128)         0         \n",
      "_________________________________________________________________\n",
      "batch_normalization_3 (Batch (None, 3, 3, 128)         512       \n",
      "_________________________________________________________________\n",
      "global_max_pooling2d_1 (Glob (None, 128)               0         \n",
      "_________________________________________________________________\n",
      "dense_1 (Dense)              (None, 256)               33024     \n",
      "_________________________________________________________________\n",
      "batch_normalization_4 (Batch (None, 256)               1024      \n",
      "_________________________________________________________________\n",
      "dropout_4 (Dropout)          (None, 256)               0         \n",
      "_________________________________________________________________\n",
      "predict (Dense)              (None, 10)                2570      \n",
      "=================================================================\n",
      "Total params: 130,186\n",
      "Trainable params: 129,226\n",
      "Non-trainable params: 960\n",
      "_________________________________________________________________\n",
      "Train on 60000 samples, validate on 10000 samples\n",
      "Epoch 1/1000\n",
      "60000/60000 [==============================] - 67s 1ms/step - loss: 0.3268 - accuracy: 0.8970 - precision: 0.8887 - recall: 0.7963 - val_loss: 1.3730 - val_accuracy: 0.4751 - val_precision: 1.0000 - val_recall: 0.4686\n",
      "Epoch 2/1000\n",
      "60000/60000 [==============================] - 76s 1ms/step - loss: 0.1030 - accuracy: 0.9681 - precision: 0.9805 - recall: 0.9715 - val_loss: 0.0488 - val_accuracy: 0.9854 - val_precision: 0.9846 - val_recall: 0.9926\n",
      "Epoch 3/1000\n",
      "60000/60000 [==============================] - 70s 1ms/step - loss: 0.0774 - accuracy: 0.9760 - precision: 0.9861 - recall: 0.9819 - val_loss: 0.0375 - val_accuracy: 0.9875 - val_precision: 0.9930 - val_recall: 0.9820\n",
      "Epoch 4/1000\n",
      "60000/60000 [==============================] - 74s 1ms/step - loss: 0.0644 - accuracy: 0.9807 - precision: 0.9851 - recall: 0.9836 - val_loss: 0.0293 - val_accuracy: 0.9916 - val_precision: 0.9901 - val_recall: 0.9980\n",
      "Epoch 5/1000\n",
      "60000/60000 [==============================] - 68s 1ms/step - loss: 0.0562 - accuracy: 0.9825 - precision: 0.9919 - recall: 0.9871 - val_loss: 0.0303 - val_accuracy: 0.9899 - val_precision: 0.9985 - val_recall: 0.9746\n",
      "Epoch 6/1000\n",
      "60000/60000 [==============================] - 71s 1ms/step - loss: 0.0504 - accuracy: 0.9837 - precision: 0.9903 - recall: 0.9888 - val_loss: 0.0263 - val_accuracy: 0.9913 - val_precision: 0.9812 - val_recall: 0.9996\n",
      "Epoch 7/1000\n",
      "60000/60000 [==============================] - 67s 1ms/step - loss: 0.0462 - accuracy: 0.9852 - precision: 0.9929 - recall: 0.9922 - val_loss: 0.0243 - val_accuracy: 0.9926 - val_precision: 0.9985 - val_recall: 0.9903\n",
      "Epoch 8/1000\n",
      "60000/60000 [==============================] - 72s 1ms/step - loss: 0.0441 - accuracy: 0.9867 - precision: 0.9903 - recall: 0.9893 - val_loss: 0.0310 - val_accuracy: 0.9895 - val_precision: 0.9898 - val_recall: 0.9952\n",
      "Epoch 9/1000\n",
      "60000/60000 [==============================] - 64s 1ms/step - loss: 0.0427 - accuracy: 0.9873 - precision: 0.9946 - recall: 0.9918 - val_loss: 0.0257 - val_accuracy: 0.9928 - val_precision: 0.9794 - val_recall: 1.0000\n",
      "Epoch 10/1000\n",
      "60000/60000 [==============================] - 62s 1ms/step - loss: 0.0401 - accuracy: 0.9877 - precision: 0.9952 - recall: 0.9917 - val_loss: 0.0182 - val_accuracy: 0.9936 - val_precision: 0.9889 - val_recall: 0.9981\n",
      "Epoch 11/1000\n",
      "60000/60000 [==============================] - 62s 1ms/step - loss: 0.0363 - accuracy: 0.9892 - precision: 0.9937 - recall: 0.9921 - val_loss: 0.0211 - val_accuracy: 0.9926 - val_precision: 0.9835 - val_recall: 0.9975\n",
      "Epoch 12/1000\n",
      "60000/60000 [==============================] - 72s 1ms/step - loss: 0.0352 - accuracy: 0.9893 - precision: 0.9924 - recall: 0.9928 - val_loss: 0.0192 - val_accuracy: 0.9933 - val_precision: 0.9837 - val_recall: 0.9996\n",
      "Epoch 13/1000\n",
      "60000/60000 [==============================] - 64s 1ms/step - loss: 0.0348 - accuracy: 0.9894 - precision: 0.9940 - recall: 0.9928 - val_loss: 0.0222 - val_accuracy: 0.9925 - val_precision: 0.9866 - val_recall: 0.9996\n",
      "Epoch 14/1000\n",
      "60000/60000 [==============================] - 75s 1ms/step - loss: 0.0315 - accuracy: 0.9899 - precision: 0.9948 - recall: 0.9927 - val_loss: 0.0217 - val_accuracy: 0.9930 - val_precision: 0.9864 - val_recall: 0.9980\n",
      "Epoch 15/1000\n",
      "60000/60000 [==============================] - 73s 1ms/step - loss: 0.0325 - accuracy: 0.9903 - precision: 0.9943 - recall: 0.9935 - val_loss: 0.0172 - val_accuracy: 0.9947 - val_precision: 0.9895 - val_recall: 0.9996\n",
      "Epoch 16/1000\n",
      "60000/60000 [==============================] - 61s 1ms/step - loss: 0.0308 - accuracy: 0.9904 - precision: 0.9963 - recall: 0.9938 - val_loss: 0.0181 - val_accuracy: 0.9939 - val_precision: 0.9852 - val_recall: 0.9980\n",
      "Epoch 17/1000\n",
      "60000/60000 [==============================] - 64s 1ms/step - loss: 0.0310 - accuracy: 0.9909 - precision: 0.9938 - recall: 0.9949 - val_loss: 0.0204 - val_accuracy: 0.9929 - val_precision: 0.9880 - val_recall: 0.9980\n",
      "Epoch 18/1000\n",
      "60000/60000 [==============================] - 68s 1ms/step - loss: 0.0300 - accuracy: 0.9911 - precision: 0.9943 - recall: 0.9957 - val_loss: 0.0185 - val_accuracy: 0.9948 - val_precision: 0.9910 - val_recall: 0.9976\n",
      "Epoch 19/1000\n",
      "60000/60000 [==============================] - 63s 1ms/step - loss: 0.0294 - accuracy: 0.9911 - precision: 0.9955 - recall: 0.9957 - val_loss: 0.0192 - val_accuracy: 0.9937 - val_precision: 0.9832 - val_recall: 1.0000\n",
      "Epoch 20/1000\n",
      "60000/60000 [==============================] - 64s 1ms/step - loss: 0.0282 - accuracy: 0.9915 - precision: 0.9934 - recall: 0.9949 - val_loss: 0.0194 - val_accuracy: 0.9941 - val_precision: 0.9938 - val_recall: 0.9994\n",
      "Epoch 21/1000\n",
      "60000/60000 [==============================] - 62s 1ms/step - loss: 0.0261 - accuracy: 0.9919 - precision: 0.9969 - recall: 0.9965 - val_loss: 0.0177 - val_accuracy: 0.9945 - val_precision: 0.9890 - val_recall: 0.9996\n",
      "Epoch 22/1000\n",
      "60000/60000 [==============================] - 58s 962us/step - loss: 0.0291 - accuracy: 0.9912 - precision: 0.9955 - recall: 0.9904 - val_loss: 0.0147 - val_accuracy: 0.9949 - val_precision: 0.9891 - val_recall: 0.9996\n",
      "Epoch 23/1000\n",
      "60000/60000 [==============================] - 63s 1ms/step - loss: 0.0251 - accuracy: 0.9925 - precision: 0.9953 - recall: 0.9945 - val_loss: 0.0167 - val_accuracy: 0.9938 - val_precision: 0.9847 - val_recall: 0.9996\n"
     ]
    },
    {
     "name": "stdout",
     "output_type": "stream",
     "text": [
      "Epoch 24/1000\n",
      "60000/60000 [==============================] - 61s 1ms/step - loss: 0.0255 - accuracy: 0.9921 - precision: 0.9946 - recall: 0.9945 - val_loss: 0.0151 - val_accuracy: 0.9946 - val_precision: 0.9897 - val_recall: 0.9996\n",
      "Epoch 25/1000\n",
      "60000/60000 [==============================] - 61s 1ms/step - loss: 0.0256 - accuracy: 0.9921 - precision: 0.9930 - recall: 0.9936 - val_loss: 0.0171 - val_accuracy: 0.9940 - val_precision: 0.9927 - val_recall: 0.9981\n",
      "Epoch 26/1000\n",
      "60000/60000 [==============================] - 61s 1ms/step - loss: 0.0256 - accuracy: 0.9923 - precision: 0.9936 - recall: 0.9932 - val_loss: 0.0154 - val_accuracy: 0.9950 - val_precision: 0.9915 - val_recall: 1.0000\n",
      "Epoch 27/1000\n",
      "60000/60000 [==============================] - 59s 979us/step - loss: 0.0242 - accuracy: 0.9921 - precision: 0.9966 - recall: 0.9957 - val_loss: 0.0165 - val_accuracy: 0.9942 - val_precision: 0.9942 - val_recall: 0.9980\n",
      "Epoch 28/1000\n",
      "60000/60000 [==============================] - 61s 1ms/step - loss: 0.0242 - accuracy: 0.9927 - precision: 0.9958 - recall: 0.9960 - val_loss: 0.0163 - val_accuracy: 0.9950 - val_precision: 0.9938 - val_recall: 0.9977\n",
      "Epoch 29/1000\n",
      "60000/60000 [==============================] - 61s 1ms/step - loss: 0.0243 - accuracy: 0.9926 - precision: 0.9957 - recall: 0.9971 - val_loss: 0.0136 - val_accuracy: 0.9952 - val_precision: 0.9907 - val_recall: 0.9996\n",
      "Epoch 30/1000\n",
      "60000/60000 [==============================] - 62s 1ms/step - loss: 0.0220 - accuracy: 0.9933 - precision: 0.9956 - recall: 0.9943 - val_loss: 0.0162 - val_accuracy: 0.9946 - val_precision: 0.9926 - val_recall: 0.9969\n",
      "Epoch 31/1000\n",
      "60000/60000 [==============================] - 61s 1ms/step - loss: 0.0225 - accuracy: 0.9930 - precision: 0.9954 - recall: 0.9945 - val_loss: 0.0141 - val_accuracy: 0.9947 - val_precision: 0.9926 - val_recall: 0.9977\n",
      "Epoch 32/1000\n",
      "60000/60000 [==============================] - 61s 1ms/step - loss: 0.0235 - accuracy: 0.9926 - precision: 0.9932 - recall: 0.9945 - val_loss: 0.0168 - val_accuracy: 0.9946 - val_precision: 0.9926 - val_recall: 0.9996\n",
      "Epoch 33/1000\n",
      "60000/60000 [==============================] - 66s 1ms/step - loss: 0.0204 - accuracy: 0.9936 - precision: 0.9983 - recall: 0.9964 - val_loss: 0.0167 - val_accuracy: 0.9944 - val_precision: 0.9926 - val_recall: 0.9980\n",
      "Epoch 34/1000\n",
      "60000/60000 [==============================] - 61s 1ms/step - loss: 0.0228 - accuracy: 0.9932 - precision: 0.9955 - recall: 0.9930 - val_loss: 0.0148 - val_accuracy: 0.9954 - val_precision: 0.9926 - val_recall: 1.0000\n",
      "Epoch 35/1000\n",
      "60000/60000 [==============================] - 61s 1ms/step - loss: 0.0207 - accuracy: 0.9939 - precision: 0.9937 - recall: 0.9958 - val_loss: 0.0174 - val_accuracy: 0.9942 - val_precision: 0.9910 - val_recall: 1.0000\n",
      "Epoch 36/1000\n",
      "60000/60000 [==============================] - 62s 1ms/step - loss: 0.0209 - accuracy: 0.9936 - precision: 0.9965 - recall: 0.9938 - val_loss: 0.0171 - val_accuracy: 0.9935 - val_precision: 0.9924 - val_recall: 0.9965\n",
      "Epoch 37/1000\n",
      "60000/60000 [==============================] - 58s 974us/step - loss: 0.0217 - accuracy: 0.9933 - precision: 0.9973 - recall: 0.9961 - val_loss: 0.0167 - val_accuracy: 0.9938 - val_precision: 0.9874 - val_recall: 0.9996\n",
      "Epoch 38/1000\n",
      "60000/60000 [==============================] - 60s 994us/step - loss: 0.0198 - accuracy: 0.9937 - precision: 0.9946 - recall: 0.9963 - val_loss: 0.0141 - val_accuracy: 0.9948 - val_precision: 0.9915 - val_recall: 0.9996\n",
      "Epoch 39/1000\n",
      "60000/60000 [==============================] - 62s 1ms/step - loss: 0.0187 - accuracy: 0.9941 - precision: 0.9964 - recall: 0.9969 - val_loss: 0.0179 - val_accuracy: 0.9939 - val_precision: 0.9926 - val_recall: 0.9976\n",
      "Epoch 40/1000\n",
      "60000/60000 [==============================] - 61s 1ms/step - loss: 0.0199 - accuracy: 0.9941 - precision: 0.9955 - recall: 0.9967 - val_loss: 0.0148 - val_accuracy: 0.9947 - val_precision: 0.9891 - val_recall: 0.9996\n",
      "Epoch 41/1000\n",
      "60000/60000 [==============================] - 61s 1ms/step - loss: 0.0194 - accuracy: 0.9941 - precision: 0.9954 - recall: 0.9967 - val_loss: 0.0151 - val_accuracy: 0.9954 - val_precision: 0.9930 - val_recall: 0.9949\n",
      "Epoch 42/1000\n",
      "60000/60000 [==============================] - 61s 1ms/step - loss: 0.0207 - accuracy: 0.9941 - precision: 0.9955 - recall: 0.9966 - val_loss: 0.0135 - val_accuracy: 0.9956 - val_precision: 0.9941 - val_recall: 0.9996\n",
      "Epoch 43/1000\n",
      "60000/60000 [==============================] - 62s 1ms/step - loss: 0.0180 - accuracy: 0.9947 - precision: 0.9972 - recall: 0.9963 - val_loss: 0.0133 - val_accuracy: 0.9961 - val_precision: 0.9915 - val_recall: 0.9996\n",
      "Epoch 44/1000\n",
      "60000/60000 [==============================] - 62s 1ms/step - loss: 0.0168 - accuracy: 0.9948 - precision: 0.9977 - recall: 0.9951 - val_loss: 0.0142 - val_accuracy: 0.9954 - val_precision: 0.9926 - val_recall: 1.0000\n",
      "Epoch 45/1000\n",
      "60000/60000 [==============================] - 61s 1ms/step - loss: 0.0198 - accuracy: 0.9941 - precision: 0.9973 - recall: 0.9960 - val_loss: 0.0159 - val_accuracy: 0.9952 - val_precision: 0.9908 - val_recall: 0.9996\n",
      "Epoch 46/1000\n",
      "60000/60000 [==============================] - 60s 997us/step - loss: 0.0197 - accuracy: 0.9942 - precision: 0.9970 - recall: 0.9946 - val_loss: 0.0156 - val_accuracy: 0.9957 - val_precision: 0.9936 - val_recall: 0.9996\n",
      "Epoch 47/1000\n",
      "60000/60000 [==============================] - 62s 1ms/step - loss: 0.0192 - accuracy: 0.9943 - precision: 0.9965 - recall: 0.9970 - val_loss: 0.0159 - val_accuracy: 0.9952 - val_precision: 0.9915 - val_recall: 1.0000\n",
      "Epoch 48/1000\n",
      "60000/60000 [==============================] - 62s 1ms/step - loss: 0.0172 - accuracy: 0.9947 - precision: 0.9967 - recall: 0.9968 - val_loss: 0.0136 - val_accuracy: 0.9949 - val_precision: 0.9926 - val_recall: 0.9980\n",
      "Epoch 49/1000\n",
      "60000/60000 [==============================] - 61s 1ms/step - loss: 0.0191 - accuracy: 0.9942 - precision: 0.9967 - recall: 0.9975 - val_loss: 0.0161 - val_accuracy: 0.9955 - val_precision: 0.9902 - val_recall: 0.9996\n",
      "Epoch 50/1000\n",
      "60000/60000 [==============================] - 62s 1ms/step - loss: 0.0181 - accuracy: 0.9945 - precision: 0.9957 - recall: 0.9966 - val_loss: 0.0142 - val_accuracy: 0.9955 - val_precision: 0.9954 - val_recall: 0.9972\n",
      "Epoch 51/1000\n",
      "60000/60000 [==============================] - 62s 1ms/step - loss: 0.0185 - accuracy: 0.9944 - precision: 0.9994 - recall: 0.9965 - val_loss: 0.0144 - val_accuracy: 0.9954 - val_precision: 0.9937 - val_recall: 0.9984\n",
      "Epoch 52/1000\n",
      "60000/60000 [==============================] - 62s 1ms/step - loss: 0.0173 - accuracy: 0.9948 - precision: 0.9956 - recall: 0.9959 - val_loss: 0.0183 - val_accuracy: 0.9940 - val_precision: 0.9947 - val_recall: 0.9981\n",
      "Epoch 53/1000\n",
      "60000/60000 [==============================] - 61s 1ms/step - loss: 0.0196 - accuracy: 0.9941 - precision: 0.9968 - recall: 0.9956 - val_loss: 0.0151 - val_accuracy: 0.9956 - val_precision: 0.9941 - val_recall: 0.9984\n",
      "1  com confiança de  87.19%\n"
     ]
    },
    {
     "data": {
      "image/png": "[encoded data removed]",
      "text/plain": [
       "<Figure size 432x288 with 1 Axes>"
      ]
     },
     "metadata": {
      "needs_background": "light"
     },
     "output_type": "display_data"
    },
    {
     "name": "stdout",
     "output_type": "stream",
     "text": [
      "2  com confiança de  100.00%\n"
     ]
    },
    {
     "data": {
      "image/png": "[encoded data removed]",
      "text/plain": [
       "<Figure size 432x288 with 1 Axes>"
      ]
     },
     "metadata": {
      "needs_background": "light"
     },
     "output_type": "display_data"
    },
    {
     "name": "stdout",
     "output_type": "stream",
     "text": [
      "3  com confiança de  100.00%\n"
     ]
    },
    {
     "data": {
      "image/png": "[encoded data removed]",
      "text/plain": [
       "<Figure size 432x288 with 1 Axes>"
      ]
     },
     "metadata": {
      "needs_background": "light"
     },
     "output_type": "display_data"
    },
    {
     "name": "stdout",
     "output_type": "stream",
     "text": [
      "4  com confiança de  100.00%\n"
     ]
    },
    {
     "data": {
      "image/png": "[encoded data removed]",
      "text/plain": [
       "<Figure size 432x288 with 1 Axes>"
      ]
     },
     "metadata": {
      "needs_background": "light"
     },
     "output_type": "display_data"
    },
    {
     "name": "stdout",
     "output_type": "stream",
     "text": [
      "5  com confiança de  100.00%\n"
     ]
    },
    {
     "data": {
      "image/png": "[encoded data removed]",
      "text/plain": [
       "<Figure size 432x288 with 1 Axes>"
      ]
     },
     "metadata": {
      "needs_background": "light"
     },
     "output_type": "display_data"
    },
    {
     "name": "stdout",
     "output_type": "stream",
     "text": [
      "6  com confiança de  99.24%\n"
     ]
    },
    {
     "data": {
      "image/png": "[encoded data removed]",
      "text/plain": [
       "<Figure size 432x288 with 1 Axes>"
      ]
     },
     "metadata": {
      "needs_background": "light"
     },
     "output_type": "display_data"
    },
    {
     "name": "stdout",
     "output_type": "stream",
     "text": [
      "7  com confiança de  89.22%\n"
     ]
    },
    {
     "data": {
      "image/png": "[encoded data removed]",
      "text/plain": [
       "<Figure size 432x288 with 1 Axes>"
      ]
     },
     "metadata": {
      "needs_background": "light"
     },
     "output_type": "display_data"
    },
    {
     "name": "stdout",
     "output_type": "stream",
     "text": [
      "8  com confiança de  100.00%\n"
     ]
    },
    {
     "data": {
      "image/png": "[encoded data removed]",
      "text/plain": [
       "<Figure size 432x288 with 1 Axes>"
      ]
     },
     "metadata": {
      "needs_background": "light"
     },
     "output_type": "display_data"
    },
    {
     "name": "stdout",
     "output_type": "stream",
     "text": [
      "9  com confiança de  99.47%\n"
     ]
    },
    {
     "data": {
      "image/png": "[encoded data removed]",
      "text/plain": [
       "<Figure size 432x288 with 1 Axes>"
      ]
     },
     "metadata": {
      "needs_background": "light"
     },
     "output_type": "display_data"
    },
    {
     "name": "stdout",
     "output_type": "stream",
     "text": [
      "\n",
      "Acc: 99.56%\n"
     ]
    }
   ],
   "source": [
    "\n",
    "brain = Model()\n",
    "#brain.loadModel('BrainRMSPropMin.h5')\n",
    "brain.defineTrain(name = 'Brain.h5', epochs = 1000, batch_size = 128, nameCallback = 'BrainCB', patienceCallback = 10)\n",
    "brain.trainModel()\n",
    "brain.testModel()\n",
    "brain.printAcc()"
   ]
  }
 ],
 "metadata": {
  "kernelspec": {
   "display_name": "Python 3",
   "language": "python",
   "name": "python3"
  },
  "language_info": {
   "codemirror_mode": {
    "name": "ipython",
    "version": 3
   },
   "file_extension": ".py",
   "mimetype": "text/x-python",
   "name": "python",
   "nbconvert_exporter": "python",
   "pygments_lexer": "ipython3",
   "version": "3.7.1"
  }
 },
 "nbformat": 4,
 "nbformat_minor": 2
}
